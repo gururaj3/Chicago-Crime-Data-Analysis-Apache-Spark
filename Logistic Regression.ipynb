{
 "cells": [
  {
   "cell_type": "code",
   "execution_count": 1,
   "metadata": {},
   "outputs": [],
   "source": [
    "import findspark\n",
    "findspark.init()"
   ]
  },
  {
   "cell_type": "code",
   "execution_count": 2,
   "metadata": {},
   "outputs": [
    {
     "data": {
      "text/html": [
       "\n",
       "            <div>\n",
       "                <p><b>SparkSession - in-memory</b></p>\n",
       "                \n",
       "        <div>\n",
       "            <p><b>SparkContext</b></p>\n",
       "\n",
       "            <p><a href=\"http://10-18-33-233.dynapool.wireless.nyu.edu:4040\">Spark UI</a></p>\n",
       "\n",
       "            <dl>\n",
       "              <dt>Version</dt>\n",
       "                <dd><code>v2.4.4</code></dd>\n",
       "              <dt>Master</dt>\n",
       "                <dd><code>local[*]</code></dd>\n",
       "              <dt>AppName</dt>\n",
       "                <dd><code>Project</code></dd>\n",
       "            </dl>\n",
       "        </div>\n",
       "        \n",
       "            </div>\n",
       "        "
      ],
      "text/plain": [
       "<pyspark.sql.session.SparkSession at 0x7fc59590cfd0>"
      ]
     },
     "execution_count": 2,
     "metadata": {},
     "output_type": "execute_result"
    }
   ],
   "source": [
    "from pyspark.sql import SparkSession\n",
    "spark = SparkSession.builder.appName(\"Project\").getOrCreate()\n",
    "    \n",
    "spark"
   ]
  },
  {
   "cell_type": "code",
   "execution_count": 3,
   "metadata": {},
   "outputs": [],
   "source": [
    "sc = spark.sparkContext"
   ]
  },
  {
   "cell_type": "code",
   "execution_count": 4,
   "metadata": {},
   "outputs": [],
   "source": [
    "from pyspark.sql import SQLContext\n",
    "\n",
    "sqlContext = SQLContext(sc)\n",
    "data = sqlContext.read.format(\"com.databricks.spark.csv\").option(\"header\", \"true\").load(\"*.csv\")"
   ]
  },
  {
   "cell_type": "code",
   "execution_count": 5,
   "metadata": {},
   "outputs": [
    {
     "name": "stdout",
     "output_type": "stream",
     "text": [
      "root\n",
      " |-- _c0: string (nullable = true)\n",
      " |-- ID: string (nullable = true)\n",
      " |-- Case Number: string (nullable = true)\n",
      " |-- Date: string (nullable = true)\n",
      " |-- Block: string (nullable = true)\n",
      " |-- IUCR: string (nullable = true)\n",
      " |-- Primary Type: string (nullable = true)\n",
      " |-- Description: string (nullable = true)\n",
      " |-- Location Description: string (nullable = true)\n",
      " |-- Arrest: string (nullable = true)\n",
      " |-- Domestic: string (nullable = true)\n",
      " |-- Beat: string (nullable = true)\n",
      " |-- District: string (nullable = true)\n",
      " |-- Ward: string (nullable = true)\n",
      " |-- Community Area: string (nullable = true)\n",
      " |-- FBI Code: string (nullable = true)\n",
      " |-- X Coordinate: string (nullable = true)\n",
      " |-- Y Coordinate: string (nullable = true)\n",
      " |-- Year: string (nullable = true)\n",
      " |-- Updated On: string (nullable = true)\n",
      " |-- Latitude: string (nullable = true)\n",
      " |-- Longitude: string (nullable = true)\n",
      " |-- Location: string (nullable = true)\n",
      "\n"
     ]
    },
    {
     "data": {
      "text/plain": [
       "7941286"
      ]
     },
     "execution_count": 5,
     "metadata": {},
     "output_type": "execute_result"
    }
   ],
   "source": [
    "data.printSchema()\n",
    "data.count()"
   ]
  },
  {
   "cell_type": "code",
   "execution_count": 6,
   "metadata": {},
   "outputs": [],
   "source": [
    "import datetime\n",
    "from pyspark.sql.functions import *\n",
    "\n",
    "data = data.withColumn('date_time', to_timestamp('Date', 'MM/dd/yyyy hh:mm:ss a'))\\\n",
    "       .withColumn('month', trunc('date_time', 'YYYY')) \n",
    "\n",
    "\n",
    "data = data.withColumn('hour', hour(data['date_time']))\n",
    "\n",
    "data = data.withColumn('week_day', dayofweek(data['date_time']))\\\n",
    "                 .withColumn('year_month', month(data['date_time']))\\\n",
    "                 .withColumn('month_day', dayofmonth(data['date_time']))\\\n",
    "                 .withColumn('date_number', datediff(data['date_time'], to_date(lit('2001-01-01'), format='yyyy-MM-dd')))"
   ]
  },
  {
   "cell_type": "code",
   "execution_count": 7,
   "metadata": {},
   "outputs": [
    {
     "data": {
      "text/plain": [
       "6170816"
      ]
     },
     "execution_count": 7,
     "metadata": {},
     "output_type": "execute_result"
    }
   ],
   "source": [
    "from pyspark.sql.functions import col\n",
    "\n",
    "data = data.distinct()\n",
    "data.where(col(\"Case Number\").isNotNull())\n",
    "\n",
    "data.count()"
   ]
  },
  {
   "cell_type": "code",
   "execution_count": 8,
   "metadata": {},
   "outputs": [],
   "source": [
    "crime_type = data.groupBy(\"Primary Type\").count().sort(\"count\",ascending=False)\n",
    "\n",
    "\n",
    "# crime_type.show(truncate=False)\n"
   ]
  },
  {
   "cell_type": "code",
   "execution_count": 9,
   "metadata": {},
   "outputs": [],
   "source": [
    "\n",
    "# crime_type.show(truncate=False)"
   ]
  },
  {
   "cell_type": "code",
   "execution_count": 45,
   "metadata": {},
   "outputs": [
    {
     "data": {
      "text/plain": [
       "[Text(0,0.5,'Primary Type'), Text(0.5,0,'Crimes Record Count')]"
      ]
     },
     "execution_count": 45,
     "metadata": {},
     "output_type": "execute_result"
    },
    {
     "data": {
      "image/png": "[encoded data removed]",
      "text/plain": [
       "<Figure size 1440x576 with 1 Axes>"
      ]
     },
     "metadata": {},
     "output_type": "display_data"
    }
   ],
   "source": [
    "import seaborn as sns\n",
    "import matplotlib.pyplot as plt\n",
    "\n",
    "df = crime_type.toPandas()\n",
    "\n",
    "plt.rcParams[\"figure.figsize\"] = [20, 8]\n",
    "\n",
    "sns.set(style=\"whitegrid\")\n",
    "sns.set_color_codes(\"pastel\")\n",
    "\n",
    "#sns.despine(left=True, bottom=True)\n",
    "type_graph = sns.barplot(x='count', y='Primary Type', data=df)\n",
    "type_graph.set(ylabel=\"Primary Type\", xlabel=\"Crimes Record Count\")"
   ]
  },
  {
   "cell_type": "code",
   "execution_count": 11,
   "metadata": {},
   "outputs": [],
   "source": [
    "selected_features = [\n",
    " 'Location Description',\n",
    " 'Arrest',\n",
    " 'Domestic',\n",
    " 'Beat',\n",
    " 'District',\n",
    " 'Ward',\n",
    " 'Community Area',\n",
    " 'FBI Code',\n",
    " 'hour',\n",
    " 'week_day',\n",
    " 'year_month',\n",
    " 'month_day',\n",
    " 'date_number']"
   ]
  },
  {
   "cell_type": "code",
   "execution_count": 12,
   "metadata": {},
   "outputs": [
    {
     "name": "stdout",
     "output_type": "stream",
     "text": [
      "+--------------------+------+--------+----+--------+----+--------------+--------+----+--------+----------+---------+-----------+\n",
      "|Location Description|Arrest|Domestic|Beat|District|Ward|Community Area|FBI Code|hour|week_day|year_month|month_day|date_number|\n",
      "+--------------------+------+--------+----+--------+----+--------------+--------+----+--------+----------+---------+-----------+\n",
      "|            SIDEWALK| False|   False| 324|     3.0| 5.0|          69.0|     04B|  20|       2|         4|        3|       1918|\n",
      "|SCHOOL, PUBLIC, B...|  True|   False| 414|     4.0| 8.0|          43.0|      18|  11|       5|         3|        2|       1886|\n",
      "|           RESIDENCE| False|   False|1524|    15.0|37.0|          25.0|      06|   0|       5|         7|       14|       1655|\n",
      "|              STREET| False|    True| 512|     5.0|34.0|          49.0|     08B|  23|       5|         4|        6|       1921|\n",
      "|        CTA PLATFORM|  True|   False|2431|    24.0|49.0|           1.0|      11|   7|       4|         4|        5|       1920|\n",
      "|            SIDEWALK| False|   False| 332|     3.0| 5.0|          43.0|     08B|  18|       5|         4|        6|       1921|\n",
      "|              STREET| False|   False| 831|     8.0|18.0|          66.0|      14|  15|       5|         4|        6|       1921|\n",
      "|            SIDEWALK|  True|   False|1133|    11.0|24.0|          29.0|      18|  12|       6|         3|        3|       1887|\n",
      "|              STREET| False|   False| 715|     7.0|15.0|          67.0|      06|  23|       1|         4|        2|       1917|\n",
      "|       CHA APARTMENT| False|   False| 711|     7.0|20.0|          68.0|      06|   7|       2|         4|        3|       1918|\n",
      "|            SIDEWALK|  True|   False|1021|    10.0|24.0|          29.0|      18|  10|       7|         2|       25|       1881|\n",
      "|              STREET| False|   False| 224|     2.0| 3.0|          38.0|      06|  11|       5|         4|        6|       1921|\n",
      "|           RESIDENCE| False|   False| 431|     4.0| 7.0|          51.0|      26|  23|       6|         4|        7|       1922|\n",
      "|            SIDEWALK|  True|   False|1524|    15.0|37.0|          25.0|      18|  11|       6|         3|        3|       1887|\n",
      "|              STREET| False|   False| 134|     1.0| 3.0|          33.0|      14|   2|       6|         4|        7|       1922|\n",
      "|            SIDEWALK|  True|   False|1331|    12.0|27.0|          27.0|      18|  12|       4|         2|        8|       1864|\n",
      "|VEHICLE NON-COMME...| False|   False|1412|    14.0|35.0|          22.0|      06|  17|       3|         4|        4|       1919|\n",
      "|              STREET| False|   False|1322|    12.0| 1.0|          24.0|      06|  14|       7|         4|        8|       1923|\n",
      "|            SIDEWALK| False|   False|1332|    12.0| 2.0|          28.0|      17|  19|       7|         4|        8|       1923|\n",
      "|              STREET| False|    True| 413|     4.0| 8.0|          47.0|     08B|  10|       7|         4|        8|       1923|\n",
      "+--------------------+------+--------+----+--------+----+--------------+--------+----+--------+----------+---------+-----------+\n",
      "only showing top 20 rows\n",
      "\n"
     ]
    }
   ],
   "source": [
    "df = data.select(selected_features)\n",
    "df.show()"
   ]
  },
  {
   "cell_type": "code",
   "execution_count": 13,
   "metadata": {},
   "outputs": [
    {
     "name": "stdout",
     "output_type": "stream",
     "text": [
      "Analysing Location Description\n",
      "Analysing Arrest\n",
      "Analysing Domestic\n",
      "Analysing Beat\n",
      "Analysing District\n",
      "Analysing Ward\n",
      "Analysing Community Area\n",
      "Analysing FBI Code\n",
      "Analysing hour\n",
      "Analysing week_day\n",
      "Analysing year_month\n",
      "Analysing month_day\n",
      "Analysing date_number\n"
     ]
    }
   ],
   "source": [
    "feature_level_count_dic = []\n",
    "\n",
    "for feature in selected_features:\n",
    "    print('Analysing %s' % feature)\n",
    "    levels_list_df = df.select(feature).distinct()\n",
    "    feature_level_count_dic.append({'feature': feature, 'level_count': levels_list_df.count()})"
   ]
  },
  {
   "cell_type": "code",
   "execution_count": 14,
   "metadata": {},
   "outputs": [
    {
     "data": {
      "text/html": [
       "<div>\n",
       "<style scoped>\n",
       "    .dataframe tbody tr th:only-of-type {\n",
       "        vertical-align: middle;\n",
       "    }\n",
       "\n",
       "    .dataframe tbody tr th {\n",
       "        vertical-align: top;\n",
       "    }\n",
       "\n",
       "    .dataframe thead th {\n",
       "        text-align: right;\n",
       "    }\n",
       "</style>\n",
       "<table border=\"1\" class=\"dataframe\">\n",
       "  <thead>\n",
       "    <tr style=\"text-align: right;\">\n",
       "      <th></th>\n",
       "      <th>feature</th>\n",
       "      <th>level_count</th>\n",
       "    </tr>\n",
       "  </thead>\n",
       "  <tbody>\n",
       "    <tr>\n",
       "      <th>12</th>\n",
       "      <td>date_number</td>\n",
       "      <td>5863</td>\n",
       "    </tr>\n",
       "    <tr>\n",
       "      <th>3</th>\n",
       "      <td>Beat</td>\n",
       "      <td>305</td>\n",
       "    </tr>\n",
       "    <tr>\n",
       "      <th>0</th>\n",
       "      <td>Location Description</td>\n",
       "      <td>174</td>\n",
       "    </tr>\n",
       "    <tr>\n",
       "      <th>6</th>\n",
       "      <td>Community Area</td>\n",
       "      <td>80</td>\n",
       "    </tr>\n",
       "    <tr>\n",
       "      <th>5</th>\n",
       "      <td>Ward</td>\n",
       "      <td>52</td>\n",
       "    </tr>\n",
       "    <tr>\n",
       "      <th>11</th>\n",
       "      <td>month_day</td>\n",
       "      <td>32</td>\n",
       "    </tr>\n",
       "    <tr>\n",
       "      <th>4</th>\n",
       "      <td>District</td>\n",
       "      <td>28</td>\n",
       "    </tr>\n",
       "    <tr>\n",
       "      <th>7</th>\n",
       "      <td>FBI Code</td>\n",
       "      <td>27</td>\n",
       "    </tr>\n",
       "    <tr>\n",
       "      <th>8</th>\n",
       "      <td>hour</td>\n",
       "      <td>25</td>\n",
       "    </tr>\n",
       "    <tr>\n",
       "      <th>10</th>\n",
       "      <td>year_month</td>\n",
       "      <td>13</td>\n",
       "    </tr>\n",
       "    <tr>\n",
       "      <th>9</th>\n",
       "      <td>week_day</td>\n",
       "      <td>8</td>\n",
       "    </tr>\n",
       "    <tr>\n",
       "      <th>1</th>\n",
       "      <td>Arrest</td>\n",
       "      <td>3</td>\n",
       "    </tr>\n",
       "    <tr>\n",
       "      <th>2</th>\n",
       "      <td>Domestic</td>\n",
       "      <td>3</td>\n",
       "    </tr>\n",
       "  </tbody>\n",
       "</table>\n",
       "</div>"
      ],
      "text/plain": [
       "                 feature  level_count\n",
       "12           date_number         5863\n",
       "3                   Beat          305\n",
       "0   Location Description          174\n",
       "6         Community Area           80\n",
       "5                   Ward           52\n",
       "11             month_day           32\n",
       "4               District           28\n",
       "7               FBI Code           27\n",
       "8                   hour           25\n",
       "10            year_month           13\n",
       "9               week_day            8\n",
       "1                 Arrest            3\n",
       "2               Domestic            3"
      ]
     },
     "execution_count": 14,
     "metadata": {},
     "output_type": "execute_result"
    }
   ],
   "source": [
    "import pandas as pd\n",
    "\n",
    "pd.DataFrame(feature_level_count_dic).sort_values(by='level_count', ascending=False)\n"
   ]
  },
  {
   "cell_type": "code",
   "execution_count": 15,
   "metadata": {},
   "outputs": [
    {
     "name": "stdout",
     "output_type": "stream",
     "text": [
      "+----+-------+-----------+--------------------+--------------------+----+------------------+--------------------+--------------------+------+--------+----+--------+----+--------------+--------+------------+------------+----+--------------------+------------+-------------+--------------------+-------------------+----------+----+--------+----------+---------+-----------+\n",
      "| _c0|     ID|Case Number|                Date|               Block|IUCR|      Primary Type|         Description|Location Description|Arrest|Domestic|Beat|District|Ward|Community Area|FBI Code|X Coordinate|Y Coordinate|Year|          Updated On|    Latitude|    Longitude|            Location|          date_time|     month|hour|week_day|year_month|month_day|date_number|\n",
      "+----+-------+-----------+--------------------+--------------------+----+------------------+--------------------+--------------------+------+--------+----+--------+----+--------------+--------+------------+------------+----+--------------------+------------+-------------+--------------------+-------------------+----------+----+--------+----------+---------+-----------+\n",
      "|  15|4673643|   HM270077|04/03/2006 08:09:...|073XX S WOODLAWN AVE|0420|           BATTERY|AGGRAVATED:KNIFE/...|            SIDEWALK| False|   False| 324|     3.0| 5.0|          69.0|     04B|   1185483.0|   1856655.0|2006|04/15/2016 08:55:...|41.761804069|-87.595743133|(41.761804069, -8...|2006-04-03 20:09:00|2006-01-01|  20|       2|         4|        3|       1918|\n",
      "| 249|4673958|   HM209182|03/02/2006 11:26:...|076XX S CONSTANCE...|1811|         NARCOTICS|POSS: CANNABIS 30...|SCHOOL, PUBLIC, B...|  True|   False| 414|     4.0| 8.0|          43.0|      18|   1189862.0|   1854688.0|2006|04/15/2016 08:55:...|41.756302295|-87.579757023|(41.756302295, -8...|2006-03-02 11:26:03|2006-01-01|  11|       5|         3|        2|       1886|\n",
      "| 332|4674103|   HM275001|07/14/2005 12:01:...| 007XX N CENTRAL AVE|0840|             THEFT|FINANCIAL ID THEF...|           RESIDENCE| False|   False|1524|    15.0|37.0|          25.0|      06|   1138895.0|   1904267.0|2005|04/15/2016 08:55:...|41.893428145|-87.765341632|(41.893428145, -8...|2005-07-14 00:01:00|2005-01-01|   0|       5|         7|       14|       1655|\n",
      "| 746|4674677|   HM276315|04/06/2006 11:00:...|103XX S WENTWORTH...|0486|           BATTERY|DOMESTIC BATTERY ...|              STREET| False|    True| 512|     5.0|34.0|          49.0|     08B|   1176774.0|   1836565.0|2006|04/15/2016 08:55:...|41.706875037|-87.628265515|(41.706875037, -8...|2006-04-06 23:00:00|2006-01-01|  23|       5|         4|        6|       1921|\n",
      "| 812|4674763|   HM272751|04/05/2006 07:48:...|   013XX W MORSE AVE|1210|DECEPTIVE PRACTICE|THEFT OF LABOR/SE...|        CTA PLATFORM|  True|   False|2431|    24.0|49.0|           1.0|      11|   1165794.0|   1946184.0|2006|04/15/2016 08:55:...|42.007919177|-87.665351128|(42.007919177, -8...|2006-04-05 07:48:40|2006-01-01|   7|       4|         4|        5|       1920|\n",
      "| 815|4674765|   HM275750|04/06/2006 06:00:...|     018XX E 67TH ST|0460|           BATTERY|              SIMPLE|            SIDEWALK| False|   False| 332|     3.0| 5.0|          43.0|     08B|   1189439.0|   1860913.0|2006|04/15/2016 08:55:...|41.773394376|-87.581107701|(41.773394376, -8...|2006-04-06 18:00:00|2006-01-01|  18|       5|         4|        6|       1921|\n",
      "| 972|4674972|   HM275521|04/06/2006 03:15:...|  070XX S TALMAN AVE|1320|   CRIMINAL DAMAGE|          TO VEHICLE|              STREET| False|   False| 831|     8.0|18.0|          66.0|      14|   1159926.0|   1857769.0|2006|04/15/2016 08:55:...|41.765424215|-87.689381905|(41.765424215, -8...|2006-04-06 15:15:00|2006-01-01|  15|       5|         4|        6|       1921|\n",
      "|1150|4675176|   HM211161|03/03/2006 12:36:...|011XX S CENTRAL P...|1811|         NARCOTICS|POSS: CANNABIS 30...|            SIDEWALK|  True|   False|1133|    11.0|24.0|          29.0|      18|   1152552.0|   1894695.0|2006|04/15/2016 08:55:...|41.866902523|-87.715436986|(41.866902523, -8...|2006-03-03 12:36:23|2006-01-01|  12|       6|         3|        3|       1887|\n",
      "|1316|4675378|   HM268403|04/02/2006 11:00:...| 056XX S ASHLAND AVE|0820|             THEFT|      $500 AND UNDER|              STREET| False|   False| 715|     7.0|15.0|          67.0|      06|   1166632.0|   1867414.0|2006|04/15/2016 08:55:...|41.791750926|-87.664527276|(41.791750926, -8...|2006-04-02 23:00:00|2006-01-01|  23|       1|         4|        2|       1917|\n",
      "|1450|4675543|   HM268626|04/03/2006 07:29:...|     004XX W 57TH PL|0810|             THEFT|           OVER $500|       CHA APARTMENT| False|   False| 711|     7.0|20.0|          68.0|      06|   1174227.0|   1866808.0|2006|04/15/2016 08:55:...|41.789922487|-87.636695892|(41.789922487, -8...|2006-04-03 07:29:53|2006-01-01|   7|       2|         4|        3|       1918|\n",
      "|1548|4675662|   HM200249|02/25/2006 10:58:...|   016XX S DRAKE AVE|1811|         NARCOTICS|POSS: CANNABIS 30...|            SIDEWALK|  True|   False|1021|    10.0|24.0|          29.0|      18|   1152973.0|   1891606.0|2006|04/15/2016 08:55:...| 41.85841763|-87.713973243|(41.85841763, -87...|2006-02-25 10:58:15|2006-01-01|  10|       7|         2|       25|       1881|\n",
      "|1710|4675879|   HM278071|04/06/2006 11:00:...| 047XX S INDIANA AVE|0820|             THEFT|      $500 AND UNDER|              STREET| False|   False| 224|     2.0| 3.0|          38.0|      06|   1178396.0|   1873742.0|2006|04/15/2016 08:55:...|41.808856306|-87.621198838|(41.808856306, -8...|2006-04-06 11:00:00|2006-01-01|  11|       5|         4|        6|       1921|\n",
      "|1739|4675913|   HM278266|04/07/2006 11:00:...|   098XX S HOXIE AVE|2825|     OTHER OFFENSE|HARASSMENT BY TEL...|           RESIDENCE| False|   False| 431|     4.0| 7.0|          51.0|      26|   1195083.0|   1840210.0|2006|04/15/2016 08:55:...|41.716446345|-87.561099585|(41.716446345, -8...|2006-04-07 23:00:00|2006-01-01|  23|       6|         4|        7|       1922|\n",
      "|1954|4676145|   HM210972|03/03/2006 11:30:...|    007XX N PINE AVE|2095|         NARCOTICS|ATTEMPT POSSESSIO...|            SIDEWALK|  True|   False|1524|    15.0|37.0|          25.0|      18|   1139386.0|   1904475.0|2006|04/15/2016 08:55:...|41.893989989|-87.763533263|(41.893989989, -8...|2006-03-03 11:30:00|2006-01-01|  11|       6|         3|        3|       1887|\n",
      "|2254|4676525|   HM276630|04/07/2006 02:00:...|     0000X E 21ST ST|1320|   CRIMINAL DAMAGE|          TO VEHICLE|              STREET| False|   False| 134|     1.0| 3.0|          33.0|      14|   1176938.0|   1890275.0|2006|04/15/2016 08:55:...|41.854257204|-87.626047169|(41.854257204, -8...|2006-04-07 02:00:00|2006-01-01|   2|       6|         4|        7|       1922|\n",
      "|2365|4676661|   HM169912|02/08/2006 12:50:...|031XX W WASHINGTO...|1811|         NARCOTICS|POSS: CANNABIS 30...|            SIDEWALK|  True|   False|1331|    12.0|27.0|          27.0|      18|   1155529.0|   1900515.0|2006|04/15/2016 08:55:...| 41.88281388|-87.704351421|(41.88281388, -87...|2006-02-08 12:50:00|2006-01-01|  12|       4|         2|        8|       1864|\n",
      "|2756|4677223|   HM271849|04/04/2006 05:30:...|   027XX N DRAKE AVE|0820|             THEFT|      $500 AND UNDER|VEHICLE NON-COMME...| False|   False|1412|    14.0|35.0|          22.0|      06|   1152245.0|   1917984.0|2006|04/15/2016 08:55:...|41.930815864|-87.715948765|(41.930815864, -8...|2006-04-04 17:30:00|2006-01-01|  17|       3|         4|        4|       1919|\n",
      "|2824|4677314|   HM279183|04/08/2006 02:17:...|  010XX N PAULINA ST|0820|             THEFT|      $500 AND UNDER|              STREET| False|   False|1322|    12.0| 1.0|          24.0|      06|   1164860.0|   1907395.0|2006|04/15/2016 08:55:...|41.901500346|-87.669892333|(41.901500346, -8...|2006-04-08 14:17:00|2006-01-01|  14|       7|         4|        8|       1923|\n",
      "|2857|4677351|   HM279723|04/08/2006 07:30:...|021XX W WASHINGTO...|1563|       SEX OFFENSE|CRIMINAL SEXUAL A...|            SIDEWALK| False|   False|1332|    12.0| 2.0|          28.0|      17|   1162223.0|   1900668.0|2006|04/15/2016 08:55:...|41.883096465|-87.679766514|(41.883096465, -8...|2006-04-08 19:30:00|2006-01-01|  19|       7|         4|        8|       1923|\n",
      "|2900|4677402|   HM278822|04/08/2006 10:18:...|  090XX S DOBSON AVE|0486|           BATTERY|DOMESTIC BATTERY ...|              STREET| False|    True| 413|     4.0| 8.0|          47.0|     08B|   1184795.0|   1845286.0|2006|04/15/2016 08:55:...|41.730622513|-87.598620481|(41.730622513, -8...|2006-04-08 10:18:16|2006-01-01|  10|       7|         4|        8|       1923|\n",
      "+----+-------+-----------+--------------------+--------------------+----+------------------+--------------------+--------------------+------+--------+----+--------+----+--------------+--------+------------+------------+----+--------------------+------------+-------------+--------------------+-------------------+----------+----+--------+----------+---------+-----------+\n",
      "only showing top 20 rows\n",
      "\n"
     ]
    }
   ],
   "source": [
    "from pyspark.ml.feature import StringIndexer, VectorAssembler\n",
    "df_feat = data.na.drop(subset=selected_features)\n",
    "\n",
    "df_feat.show()"
   ]
  },
  {
   "cell_type": "code",
   "execution_count": 16,
   "metadata": {},
   "outputs": [
    {
     "name": "stdout",
     "output_type": "stream",
     "text": [
      "Fitting feature \"Location Description\"\n",
      "Transforming \"Location Description\"\n",
      "Fitting feature \"Arrest\"\n",
      "Transforming \"Arrest\"\n",
      "Fitting feature \"Domestic\"\n",
      "Transforming \"Domestic\"\n",
      "Fitting feature \"Beat\"\n",
      "Transforming \"Beat\"\n",
      "Fitting feature \"District\"\n",
      "Transforming \"District\"\n",
      "Fitting feature \"Ward\"\n",
      "Transforming \"Ward\"\n",
      "Fitting feature \"Community Area\"\n",
      "Transforming \"Community Area\"\n",
      "Fitting feature \"FBI Code\"\n",
      "Transforming \"FBI Code\"\n",
      "Fitting feature \"hour\"\n",
      "Transforming \"hour\"\n",
      "Fitting feature \"week_day\"\n",
      "Transforming \"week_day\"\n",
      "Fitting feature \"year_month\"\n",
      "Transforming \"year_month\"\n",
      "Fitting feature \"month_day\"\n",
      "Transforming \"month_day\"\n",
      "Fitting feature \"date_number\"\n",
      "Transforming \"date_number\"\n"
     ]
    }
   ],
   "source": [
    "for feature in feature_level_count_dic:\n",
    "    indexer = StringIndexer(inputCol=feature['feature'], outputCol='%s_indexed' % feature['feature'])\n",
    "    print('Fitting feature \"%s\"' % feature['feature'])\n",
    "    model = indexer.fit(df_feat)\n",
    "    print('Transforming \"%s\"' % feature['feature'])\n",
    "    df_feat = model.transform(df_feat)"
   ]
  },
  {
   "cell_type": "code",
   "execution_count": 17,
   "metadata": {},
   "outputs": [],
   "source": [
    "\n",
    "response_indexer = StringIndexer(inputCol='Primary Type', outputCol='primary_type_indexed')\n",
    "response_model = response_indexer.fit(df_feat)\n",
    "df_feat = response_model.transform(df_feat)"
   ]
  },
  {
   "cell_type": "code",
   "execution_count": 18,
   "metadata": {},
   "outputs": [
    {
     "data": {
      "text/plain": [
       "['Location Description_indexed',\n",
       " 'Arrest_indexed',\n",
       " 'Domestic_indexed',\n",
       " 'Beat_indexed',\n",
       " 'District_indexed',\n",
       " 'Ward_indexed',\n",
       " 'Community Area_indexed',\n",
       " 'FBI Code_indexed',\n",
       " 'hour_indexed',\n",
       " 'week_day_indexed',\n",
       " 'year_month_indexed',\n",
       " 'month_day_indexed',\n",
       " 'date_number_indexed']"
      ]
     },
     "execution_count": 18,
     "metadata": {},
     "output_type": "execute_result"
    }
   ],
   "source": [
    "indexed_features = ['%s_indexed' % fc['feature'] for fc in feature_level_count_dic]\n",
    "indexed_features"
   ]
  },
  {
   "cell_type": "code",
   "execution_count": 19,
   "metadata": {},
   "outputs": [],
   "source": [
    "assembler = VectorAssembler(inputCols=indexed_features, outputCol='features')\n",
    "vectorized_df_dates = assembler.transform(df_feat)"
   ]
  },
  {
   "cell_type": "code",
   "execution_count": 20,
   "metadata": {},
   "outputs": [
    {
     "data": {
      "text/plain": [
       "[Row(_c0='15', ID='4673643', Case Number='HM270077', Date='04/03/2006 08:09:00 PM', Block='073XX S WOODLAWN AVE', IUCR='0420', Primary Type='BATTERY', Description='AGGRAVATED:KNIFE/CUTTING INSTR', Location Description='SIDEWALK', Arrest='False', Domestic='False', Beat='324', District='3.0', Ward='5.0', Community Area='69.0', FBI Code='04B', X Coordinate='1185483.0', Y Coordinate='1856655.0', Year='2006', Updated On='04/15/2016 08:55:02 AM', Latitude='41.761804069', Longitude='-87.595743133', Location='(41.761804069, -87.595743133)', date_time=datetime.datetime(2006, 4, 3, 20, 9), month=datetime.date(2006, 1, 1), hour=20, week_day=2, year_month=4, month_day=3, date_number=1918, Location Description_indexed=3.0, Arrest_indexed=0.0, Domestic_indexed=0.0, Beat_indexed=28.0, District_indexed=6.0, Ward_indexed=17.0, Community Area_indexed=12.0, FBI Code_indexed=10.0, hour_indexed=0.0, week_day_indexed=5.0, year_month_indexed=9.0, month_day_indexed=22.0, date_number_indexed=1699.0, primary_type_indexed=1.0, features=DenseVector([3.0, 0.0, 0.0, 28.0, 6.0, 17.0, 12.0, 10.0, 0.0, 5.0, 9.0, 22.0, 1699.0]))]"
      ]
     },
     "execution_count": 20,
     "metadata": {},
     "output_type": "execute_result"
    }
   ],
   "source": [
    "vectorized_df_dates.take(1)\n"
   ]
  },
  {
   "cell_type": "code",
   "execution_count": 53,
   "metadata": {},
   "outputs": [
    {
     "name": "stdout",
     "output_type": "stream",
     "text": [
      "+--------------------+--------------------+\n",
      "|            features|     Scaled_features|\n",
      "+--------------------+--------------------+\n",
      "|[3.0,0.0,0.0,28.0...|[0.26368130797186...|\n",
      "|[7.0,1.0,0.0,8.0,...|[0.61525638526769...|\n",
      "|[1.0,0.0,0.0,61.0...|[0.08789376932395...|\n",
      "|[0.0,0.0,1.0,17.0...|[0.0,0.0,2.976298...|\n",
      "|[20.0,1.0,0.0,231...|[1.75787538647912...|\n",
      "+--------------------+--------------------+\n",
      "only showing top 5 rows\n",
      "\n"
     ]
    }
   ],
   "source": [
    "from pyspark.ml.feature import StandardScaler\n",
    "standardscaler=StandardScaler().setInputCol(\"features\").setOutputCol(\"Scaled_features\")\n",
    "vectorized_df_dates=standardscaler.fit(vectorized_df_dates).transform(vectorized_df_dates)\n",
    "vectorized_df_dates.select(\"features\",\"Scaled_features\").show(5)"
   ]
  },
  {
   "cell_type": "code",
   "execution_count": 54,
   "metadata": {},
   "outputs": [
    {
     "name": "stdout",
     "output_type": "stream",
     "text": [
      "+--------------------+\n",
      "|     Scaled_features|\n",
      "+--------------------+\n",
      "|[0.08789376932395...|\n",
      "|[1.05472523188747...|\n",
      "|[0.26368130797186...|\n",
      "|[1.05472523188747...|\n",
      "|[0.26368130797186...|\n",
      "|[0.08789376932395...|\n",
      "|[0.0,0.0,0.0,2.62...|\n",
      "|[0.26368130797186...|\n",
      "|[0.17578753864791...|\n",
      "|[0.08789376932395...|\n",
      "|[0.0,0.0,0.0,2.66...|\n",
      "|[0.0,0.0,0.0,1.07...|\n",
      "|[0.52736261594373...|\n",
      "|[0.0,2.2249824041...|\n",
      "|[0.08789376932395...|\n",
      "|[0.08789376932395...|\n",
      "|[0.08789376932395...|\n",
      "|[1.14261900121143...|\n",
      "|[0.26368130797186...|\n",
      "|[0.0,0.0,0.0,0.81...|\n",
      "+--------------------+\n",
      "only showing top 20 rows\n",
      "\n"
     ]
    }
   ],
   "source": [
    "train, test = vectorized_df_dates.randomSplit([0.8, 0.2])\n",
    "train.select('Scaled_features').show()"
   ]
  },
  {
   "cell_type": "code",
   "execution_count": 55,
   "metadata": {},
   "outputs": [],
   "source": [
    "from pyspark.ml.classification import LogisticRegression"
   ]
  },
  {
   "cell_type": "code",
   "execution_count": 56,
   "metadata": {},
   "outputs": [],
   "source": [
    "logisticRegression = LogisticRegression(labelCol='primary_type_indexed', featuresCol='Scaled_features', maxIter=10, family='multinomial')"
   ]
  },
  {
   "cell_type": "code",
   "execution_count": 57,
   "metadata": {},
   "outputs": [],
   "source": [
    "fittedModel = logisticRegression.fit(train)\n"
   ]
  },
  {
   "cell_type": "code",
   "execution_count": 58,
   "metadata": {},
   "outputs": [],
   "source": [
    "predict_train=fittedModel.transform(train)"
   ]
  },
  {
   "cell_type": "code",
   "execution_count": 59,
   "metadata": {},
   "outputs": [],
   "source": [
    "fittedModel.summary.accuracy\n",
    "\n",
    "model_summary = fittedModel.summary\n",
    "\n",
    "# fittedModel.summary.accuracy"
   ]
  },
  {
   "cell_type": "code",
   "execution_count": 60,
   "metadata": {},
   "outputs": [
    {
     "name": "stdout",
     "output_type": "stream",
     "text": [
      "Coefficient matrix:\n",
      "Row count = 34\n",
      "Col count = 13\n",
      "Model:\n",
      "Num Classes = 34\n",
      "Num Features = 13\n",
      "Training \"primary_type\" factor level count = 34\n"
     ]
    }
   ],
   "source": [
    "fittedModel.coefficientMatrix\n",
    "\n",
    "print('Coefficient matrix:\\nRow count = %s\\nCol count = %s' % (fittedModel.coefficientMatrix.numRows, fittedModel.coefficientMatrix.numCols))\n",
    "\n",
    "print('Model:\\nNum Classes = %s\\nNum Features = %s' % (fittedModel.numClasses, fittedModel.numFeatures))\n",
    "\n",
    "print('Training \"primary_type\" factor level count = %s' % train.select('primary_type_indexed').distinct().count())\n"
   ]
  },
  {
   "cell_type": "code",
   "execution_count": 61,
   "metadata": {},
   "outputs": [
    {
     "name": "stdout",
     "output_type": "stream",
     "text": [
      "+-------------------------------------------------------------+\n",
      "|features                                                     |\n",
      "+-------------------------------------------------------------+\n",
      "|[3.0,0.0,0.0,28.0,6.0,17.0,12.0,10.0,0.0,5.0,9.0,22.0,1699.0]|\n",
      "|[7.0,1.0,0.0,8.0,5.0,14.0,2.0,3.0,13.0,3.0,10.0,21.0,1700.0] |\n",
      "+-------------------------------------------------------------+\n",
      "only showing top 2 rows\n",
      "\n"
     ]
    }
   ],
   "source": [
    "vectorized_df_dates.select('features').show(2, truncate=False)\n",
    "\n"
   ]
  },
  {
   "cell_type": "code",
   "execution_count": 62,
   "metadata": {},
   "outputs": [
    {
     "data": {
      "text/plain": [
       "34"
      ]
     },
     "execution_count": 62,
     "metadata": {},
     "output_type": "execute_result"
    }
   ],
   "source": [
    "fittedModel.numClasses\n"
   ]
  },
  {
   "cell_type": "code",
   "execution_count": 63,
   "metadata": {},
   "outputs": [
    {
     "data": {
      "text/plain": [
       "13"
      ]
     },
     "execution_count": 63,
     "metadata": {},
     "output_type": "execute_result"
    }
   ],
   "source": [
    "fittedModel.numFeatures\n"
   ]
  },
  {
   "cell_type": "code",
   "execution_count": 64,
   "metadata": {},
   "outputs": [
    {
     "data": {
      "text/plain": [
       "34"
      ]
     },
     "execution_count": 64,
     "metadata": {},
     "output_type": "execute_result"
    }
   ],
   "source": [
    "train.select('primary_type_indexed').distinct().count()\n"
   ]
  },
  {
   "cell_type": "code",
   "execution_count": 65,
   "metadata": {},
   "outputs": [
    {
     "data": {
      "text/plain": [
       "36"
      ]
     },
     "execution_count": 65,
     "metadata": {},
     "output_type": "execute_result"
    }
   ],
   "source": [
    "data.select('Primary Type').distinct().count()\n"
   ]
  },
  {
   "cell_type": "code",
   "execution_count": 66,
   "metadata": {},
   "outputs": [
    {
     "data": {
      "text/plain": [
       "34"
      ]
     },
     "execution_count": 66,
     "metadata": {},
     "output_type": "execute_result"
    }
   ],
   "source": [
    "fittedModel.interceptVector.values.size\n"
   ]
  },
  {
   "cell_type": "code",
   "execution_count": 67,
   "metadata": {},
   "outputs": [
    {
     "name": "stdout",
     "output_type": "stream",
     "text": [
      "[2.408506803884851, 2.1054184231945765, 1.9952885100804305, 1.8570639417375148, 1.7872425738265219, 1.7327319803963852, 1.678520341592827, 1.6374625298771466, 1.5994648501838344, 1.5815528038239925, 1.5588662736591972]\n",
      "\n",
      "Objective history size  11\n"
     ]
    }
   ],
   "source": [
    "\n",
    "\n",
    "print(model_summary.objectiveHistory)\n",
    "print()\n",
    "print('Objective history size ', len(model_summary.objectiveHistory))"
   ]
  },
  {
   "cell_type": "code",
   "execution_count": 68,
   "metadata": {},
   "outputs": [
    {
     "data": {
      "text/plain": [
       "<matplotlib.axes._subplots.AxesSubplot at 0x7fc5788f0e10>"
      ]
     },
     "execution_count": 68,
     "metadata": {},
     "output_type": "execute_result"
    },
    {
     "data": {
      "image/png": "[encoded data removed]",
      "text/plain": [
       "<Figure size 1440x576 with 1 Axes>"
      ]
     },
     "metadata": {},
     "output_type": "display_data"
    }
   ],
   "source": [
    "\n",
    "\n",
    "sns.barplot(y=model_summary.objectiveHistory, x=list(range(len(model_summary.objectiveHistory))))\n"
   ]
  },
  {
   "cell_type": "code",
   "execution_count": 69,
   "metadata": {},
   "outputs": [],
   "source": [
    "label_stats = {float(i):{'index': float(i)} for i in range(34)}\n",
    "for i, rate in enumerate(model_summary.falsePositiveRateByLabel):\n",
    "    label_stats[i]['false_positive_rate'] = rate\n",
    "    \n",
    "for i, rate in enumerate(model_summary.truePositiveRateByLabel):\n",
    "    label_stats[i]['true_positive_rate'] = rate\n",
    "    \n",
    "for i, rate in enumerate(model_summary.precisionByLabel):\n",
    "    label_stats[i]['precision_rate'] = rate\n",
    "    \n",
    "for i, rate in enumerate(model_summary.recallByLabel):\n",
    "    label_stats[i]['recall_rate'] = rate\n",
    "    \n",
    "for i, rate in enumerate(model_summary.fMeasureByLabel()):\n",
    "    label_stats[i]['f_measure'] = rate"
   ]
  },
  {
   "cell_type": "code",
   "execution_count": 70,
   "metadata": {},
   "outputs": [],
   "source": [
    "train_rdd = train.select(['Primary Type', 'primary_type_indexed']).distinct().orderBy('primary_type_indexed').rdd.map(lambda l: l.asDict()).collect()"
   ]
  },
  {
   "cell_type": "code",
   "execution_count": 71,
   "metadata": {},
   "outputs": [
    {
     "name": "stdout",
     "output_type": "stream",
     "text": [
      "{'Primary Type': 'THEFT', 'primary_type_indexed': 0.0}\n",
      "{'Primary Type': 'BATTERY', 'primary_type_indexed': 1.0}\n",
      "{'Primary Type': 'CRIMINAL DAMAGE', 'primary_type_indexed': 2.0}\n",
      "{'Primary Type': 'NARCOTICS', 'primary_type_indexed': 3.0}\n",
      "{'Primary Type': 'OTHER OFFENSE', 'primary_type_indexed': 4.0}\n",
      "{'Primary Type': 'ASSAULT', 'primary_type_indexed': 5.0}\n",
      "{'Primary Type': 'BURGLARY', 'primary_type_indexed': 6.0}\n",
      "{'Primary Type': 'MOTOR VEHICLE THEFT', 'primary_type_indexed': 7.0}\n",
      "{'Primary Type': 'ROBBERY', 'primary_type_indexed': 8.0}\n",
      "{'Primary Type': 'DECEPTIVE PRACTICE', 'primary_type_indexed': 9.0}\n",
      "{'Primary Type': 'CRIMINAL TRESPASS', 'primary_type_indexed': 10.0}\n",
      "{'Primary Type': 'PROSTITUTION', 'primary_type_indexed': 11.0}\n",
      "{'Primary Type': 'WEAPONS VIOLATION', 'primary_type_indexed': 12.0}\n",
      "{'Primary Type': 'PUBLIC PEACE VIOLATION', 'primary_type_indexed': 13.0}\n",
      "{'Primary Type': 'OFFENSE INVOLVING CHILDREN', 'primary_type_indexed': 14.0}\n",
      "{'Primary Type': 'CRIM SEXUAL ASSAULT', 'primary_type_indexed': 15.0}\n",
      "{'Primary Type': 'SEX OFFENSE', 'primary_type_indexed': 16.0}\n",
      "{'Primary Type': 'GAMBLING', 'primary_type_indexed': 17.0}\n",
      "{'Primary Type': 'INTERFERENCE WITH PUBLIC OFFICER', 'primary_type_indexed': 18.0}\n",
      "{'Primary Type': 'LIQUOR LAW VIOLATION', 'primary_type_indexed': 19.0}\n",
      "{'Primary Type': 'ARSON', 'primary_type_indexed': 20.0}\n",
      "{'Primary Type': 'HOMICIDE', 'primary_type_indexed': 21.0}\n",
      "{'Primary Type': 'KIDNAPPING', 'primary_type_indexed': 22.0}\n",
      "{'Primary Type': 'INTIMIDATION', 'primary_type_indexed': 23.0}\n",
      "{'Primary Type': 'STALKING', 'primary_type_indexed': 24.0}\n",
      "{'Primary Type': 'OBSCENITY', 'primary_type_indexed': 25.0}\n",
      "{'Primary Type': 'PUBLIC INDECENCY', 'primary_type_indexed': 26.0}\n",
      "{'Primary Type': 'OTHER NARCOTIC VIOLATION', 'primary_type_indexed': 27.0}\n",
      "{'Primary Type': 'NON-CRIMINAL', 'primary_type_indexed': 28.0}\n",
      "{'Primary Type': 'CONCEALED CARRY LICENSE VIOLATION', 'primary_type_indexed': 29.0}\n",
      "{'Primary Type': 'NON - CRIMINAL', 'primary_type_indexed': 30.0}\n",
      "{'Primary Type': 'HUMAN TRAFFICKING', 'primary_type_indexed': 31.0}\n",
      "{'Primary Type': 'RITUALISM', 'primary_type_indexed': 32.0}\n",
      "{'Primary Type': 'NON-CRIMINAL (SUBJECT SPECIFIED)', 'primary_type_indexed': 33.0}\n"
     ]
    }
   ],
   "source": [
    "for l in train_rdd:\n",
    "    print(l)\n",
    "    label_stats[l['primary_type_indexed']]['Primary Type'] = l['Primary Type']"
   ]
  },
  {
   "cell_type": "code",
   "execution_count": 72,
   "metadata": {},
   "outputs": [],
   "source": [
    "rates_pddf = pd.DataFrame(list(label_stats.values()))\n"
   ]
  },
  {
   "cell_type": "code",
   "execution_count": 73,
   "metadata": {},
   "outputs": [],
   "source": [
    "rates_pddf = rates_pddf.sort_values(by='precision_rate', ascending=False)\n"
   ]
  },
  {
   "cell_type": "code",
   "execution_count": 74,
   "metadata": {},
   "outputs": [
    {
     "data": {
      "text/html": [
       "<div>\n",
       "<style scoped>\n",
       "    .dataframe tbody tr th:only-of-type {\n",
       "        vertical-align: middle;\n",
       "    }\n",
       "\n",
       "    .dataframe tbody tr th {\n",
       "        vertical-align: top;\n",
       "    }\n",
       "\n",
       "    .dataframe thead th {\n",
       "        text-align: right;\n",
       "    }\n",
       "</style>\n",
       "<table border=\"1\" class=\"dataframe\">\n",
       "  <thead>\n",
       "    <tr style=\"text-align: right;\">\n",
       "      <th></th>\n",
       "      <th>Primary Type</th>\n",
       "      <th>f_measure</th>\n",
       "      <th>false_positive_rate</th>\n",
       "      <th>index</th>\n",
       "      <th>precision_rate</th>\n",
       "      <th>recall_rate</th>\n",
       "      <th>true_positive_rate</th>\n",
       "    </tr>\n",
       "  </thead>\n",
       "  <tbody>\n",
       "    <tr>\n",
       "      <th>0</th>\n",
       "      <td>THEFT</td>\n",
       "      <td>0.765016</td>\n",
       "      <td>0.129051</td>\n",
       "      <td>0.0</td>\n",
       "      <td>0.653782</td>\n",
       "      <td>0.921861</td>\n",
       "      <td>0.921861</td>\n",
       "    </tr>\n",
       "    <tr>\n",
       "      <th>11</th>\n",
       "      <td>PROSTITUTION</td>\n",
       "      <td>0.227756</td>\n",
       "      <td>0.000906</td>\n",
       "      <td>11.0</td>\n",
       "      <td>0.617828</td>\n",
       "      <td>0.139611</td>\n",
       "      <td>0.139611</td>\n",
       "    </tr>\n",
       "    <tr>\n",
       "      <th>3</th>\n",
       "      <td>NARCOTICS</td>\n",
       "      <td>0.698525</td>\n",
       "      <td>0.069411</td>\n",
       "      <td>3.0</td>\n",
       "      <td>0.597864</td>\n",
       "      <td>0.839943</td>\n",
       "      <td>0.839943</td>\n",
       "    </tr>\n",
       "    <tr>\n",
       "      <th>4</th>\n",
       "      <td>OTHER OFFENSE</td>\n",
       "      <td>0.188402</td>\n",
       "      <td>0.007173</td>\n",
       "      <td>4.0</td>\n",
       "      <td>0.513462</td>\n",
       "      <td>0.115366</td>\n",
       "      <td>0.115366</td>\n",
       "    </tr>\n",
       "    <tr>\n",
       "      <th>2</th>\n",
       "      <td>CRIMINAL DAMAGE</td>\n",
       "      <td>0.395926</td>\n",
       "      <td>0.046607</td>\n",
       "      <td>2.0</td>\n",
       "      <td>0.483013</td>\n",
       "      <td>0.335445</td>\n",
       "      <td>0.335445</td>\n",
       "    </tr>\n",
       "    <tr>\n",
       "      <th>1</th>\n",
       "      <td>BATTERY</td>\n",
       "      <td>0.428108</td>\n",
       "      <td>0.126597</td>\n",
       "      <td>1.0</td>\n",
       "      <td>0.428220</td>\n",
       "      <td>0.427996</td>\n",
       "      <td>0.427996</td>\n",
       "    </tr>\n",
       "    <tr>\n",
       "      <th>7</th>\n",
       "      <td>MOTOR VEHICLE THEFT</td>\n",
       "      <td>0.302904</td>\n",
       "      <td>0.016281</td>\n",
       "      <td>7.0</td>\n",
       "      <td>0.416102</td>\n",
       "      <td>0.238125</td>\n",
       "      <td>0.238125</td>\n",
       "    </tr>\n",
       "    <tr>\n",
       "      <th>6</th>\n",
       "      <td>BURGLARY</td>\n",
       "      <td>0.354511</td>\n",
       "      <td>0.062600</td>\n",
       "      <td>6.0</td>\n",
       "      <td>0.301740</td>\n",
       "      <td>0.429651</td>\n",
       "      <td>0.429651</td>\n",
       "    </tr>\n",
       "    <tr>\n",
       "      <th>9</th>\n",
       "      <td>DECEPTIVE PRACTICE</td>\n",
       "      <td>0.316258</td>\n",
       "      <td>0.030814</td>\n",
       "      <td>9.0</td>\n",
       "      <td>0.295988</td>\n",
       "      <td>0.339509</td>\n",
       "      <td>0.339509</td>\n",
       "    </tr>\n",
       "    <tr>\n",
       "      <th>10</th>\n",
       "      <td>CRIMINAL TRESPASS</td>\n",
       "      <td>0.172970</td>\n",
       "      <td>0.010080</td>\n",
       "      <td>10.0</td>\n",
       "      <td>0.272213</td>\n",
       "      <td>0.126757</td>\n",
       "      <td>0.126757</td>\n",
       "    </tr>\n",
       "    <tr>\n",
       "      <th>5</th>\n",
       "      <td>ASSAULT</td>\n",
       "      <td>0.278285</td>\n",
       "      <td>0.080065</td>\n",
       "      <td>5.0</td>\n",
       "      <td>0.226008</td>\n",
       "      <td>0.362025</td>\n",
       "      <td>0.362025</td>\n",
       "    </tr>\n",
       "    <tr>\n",
       "      <th>8</th>\n",
       "      <td>ROBBERY</td>\n",
       "      <td>0.089081</td>\n",
       "      <td>0.008702</td>\n",
       "      <td>8.0</td>\n",
       "      <td>0.204950</td>\n",
       "      <td>0.056908</td>\n",
       "      <td>0.056908</td>\n",
       "    </tr>\n",
       "    <tr>\n",
       "      <th>28</th>\n",
       "      <td>NON-CRIMINAL</td>\n",
       "      <td>0.000000</td>\n",
       "      <td>0.000000</td>\n",
       "      <td>28.0</td>\n",
       "      <td>0.000000</td>\n",
       "      <td>0.000000</td>\n",
       "      <td>0.000000</td>\n",
       "    </tr>\n",
       "    <tr>\n",
       "      <th>25</th>\n",
       "      <td>OBSCENITY</td>\n",
       "      <td>0.000000</td>\n",
       "      <td>0.000000</td>\n",
       "      <td>25.0</td>\n",
       "      <td>0.000000</td>\n",
       "      <td>0.000000</td>\n",
       "      <td>0.000000</td>\n",
       "    </tr>\n",
       "    <tr>\n",
       "      <th>26</th>\n",
       "      <td>PUBLIC INDECENCY</td>\n",
       "      <td>0.000000</td>\n",
       "      <td>0.000000</td>\n",
       "      <td>26.0</td>\n",
       "      <td>0.000000</td>\n",
       "      <td>0.000000</td>\n",
       "      <td>0.000000</td>\n",
       "    </tr>\n",
       "    <tr>\n",
       "      <th>27</th>\n",
       "      <td>OTHER NARCOTIC VIOLATION</td>\n",
       "      <td>0.000000</td>\n",
       "      <td>0.000000</td>\n",
       "      <td>27.0</td>\n",
       "      <td>0.000000</td>\n",
       "      <td>0.000000</td>\n",
       "      <td>0.000000</td>\n",
       "    </tr>\n",
       "    <tr>\n",
       "      <th>32</th>\n",
       "      <td>RITUALISM</td>\n",
       "      <td>0.000000</td>\n",
       "      <td>0.000000</td>\n",
       "      <td>32.0</td>\n",
       "      <td>0.000000</td>\n",
       "      <td>0.000000</td>\n",
       "      <td>0.000000</td>\n",
       "    </tr>\n",
       "    <tr>\n",
       "      <th>29</th>\n",
       "      <td>CONCEALED CARRY LICENSE VIOLATION</td>\n",
       "      <td>0.000000</td>\n",
       "      <td>0.000000</td>\n",
       "      <td>29.0</td>\n",
       "      <td>0.000000</td>\n",
       "      <td>0.000000</td>\n",
       "      <td>0.000000</td>\n",
       "    </tr>\n",
       "    <tr>\n",
       "      <th>30</th>\n",
       "      <td>NON - CRIMINAL</td>\n",
       "      <td>0.000000</td>\n",
       "      <td>0.000000</td>\n",
       "      <td>30.0</td>\n",
       "      <td>0.000000</td>\n",
       "      <td>0.000000</td>\n",
       "      <td>0.000000</td>\n",
       "    </tr>\n",
       "    <tr>\n",
       "      <th>31</th>\n",
       "      <td>HUMAN TRAFFICKING</td>\n",
       "      <td>0.000000</td>\n",
       "      <td>0.000000</td>\n",
       "      <td>31.0</td>\n",
       "      <td>0.000000</td>\n",
       "      <td>0.000000</td>\n",
       "      <td>0.000000</td>\n",
       "    </tr>\n",
       "    <tr>\n",
       "      <th>23</th>\n",
       "      <td>INTIMIDATION</td>\n",
       "      <td>0.000000</td>\n",
       "      <td>0.000000</td>\n",
       "      <td>23.0</td>\n",
       "      <td>0.000000</td>\n",
       "      <td>0.000000</td>\n",
       "      <td>0.000000</td>\n",
       "    </tr>\n",
       "    <tr>\n",
       "      <th>24</th>\n",
       "      <td>STALKING</td>\n",
       "      <td>0.000000</td>\n",
       "      <td>0.000000</td>\n",
       "      <td>24.0</td>\n",
       "      <td>0.000000</td>\n",
       "      <td>0.000000</td>\n",
       "      <td>0.000000</td>\n",
       "    </tr>\n",
       "    <tr>\n",
       "      <th>17</th>\n",
       "      <td>GAMBLING</td>\n",
       "      <td>0.000000</td>\n",
       "      <td>0.000000</td>\n",
       "      <td>17.0</td>\n",
       "      <td>0.000000</td>\n",
       "      <td>0.000000</td>\n",
       "      <td>0.000000</td>\n",
       "    </tr>\n",
       "    <tr>\n",
       "      <th>22</th>\n",
       "      <td>KIDNAPPING</td>\n",
       "      <td>0.000000</td>\n",
       "      <td>0.000000</td>\n",
       "      <td>22.0</td>\n",
       "      <td>0.000000</td>\n",
       "      <td>0.000000</td>\n",
       "      <td>0.000000</td>\n",
       "    </tr>\n",
       "    <tr>\n",
       "      <th>21</th>\n",
       "      <td>HOMICIDE</td>\n",
       "      <td>0.000000</td>\n",
       "      <td>0.000000</td>\n",
       "      <td>21.0</td>\n",
       "      <td>0.000000</td>\n",
       "      <td>0.000000</td>\n",
       "      <td>0.000000</td>\n",
       "    </tr>\n",
       "    <tr>\n",
       "      <th>20</th>\n",
       "      <td>ARSON</td>\n",
       "      <td>0.000000</td>\n",
       "      <td>0.000000</td>\n",
       "      <td>20.0</td>\n",
       "      <td>0.000000</td>\n",
       "      <td>0.000000</td>\n",
       "      <td>0.000000</td>\n",
       "    </tr>\n",
       "    <tr>\n",
       "      <th>19</th>\n",
       "      <td>LIQUOR LAW VIOLATION</td>\n",
       "      <td>0.000000</td>\n",
       "      <td>0.000000</td>\n",
       "      <td>19.0</td>\n",
       "      <td>0.000000</td>\n",
       "      <td>0.000000</td>\n",
       "      <td>0.000000</td>\n",
       "    </tr>\n",
       "    <tr>\n",
       "      <th>18</th>\n",
       "      <td>INTERFERENCE WITH PUBLIC OFFICER</td>\n",
       "      <td>0.000000</td>\n",
       "      <td>0.000000</td>\n",
       "      <td>18.0</td>\n",
       "      <td>0.000000</td>\n",
       "      <td>0.000000</td>\n",
       "      <td>0.000000</td>\n",
       "    </tr>\n",
       "    <tr>\n",
       "      <th>16</th>\n",
       "      <td>SEX OFFENSE</td>\n",
       "      <td>0.000000</td>\n",
       "      <td>0.000000</td>\n",
       "      <td>16.0</td>\n",
       "      <td>0.000000</td>\n",
       "      <td>0.000000</td>\n",
       "      <td>0.000000</td>\n",
       "    </tr>\n",
       "    <tr>\n",
       "      <th>15</th>\n",
       "      <td>CRIM SEXUAL ASSAULT</td>\n",
       "      <td>0.000000</td>\n",
       "      <td>0.000000</td>\n",
       "      <td>15.0</td>\n",
       "      <td>0.000000</td>\n",
       "      <td>0.000000</td>\n",
       "      <td>0.000000</td>\n",
       "    </tr>\n",
       "    <tr>\n",
       "      <th>14</th>\n",
       "      <td>OFFENSE INVOLVING CHILDREN</td>\n",
       "      <td>0.000000</td>\n",
       "      <td>0.000000</td>\n",
       "      <td>14.0</td>\n",
       "      <td>0.000000</td>\n",
       "      <td>0.000000</td>\n",
       "      <td>0.000000</td>\n",
       "    </tr>\n",
       "    <tr>\n",
       "      <th>13</th>\n",
       "      <td>PUBLIC PEACE VIOLATION</td>\n",
       "      <td>0.000000</td>\n",
       "      <td>0.000000</td>\n",
       "      <td>13.0</td>\n",
       "      <td>0.000000</td>\n",
       "      <td>0.000000</td>\n",
       "      <td>0.000000</td>\n",
       "    </tr>\n",
       "    <tr>\n",
       "      <th>12</th>\n",
       "      <td>WEAPONS VIOLATION</td>\n",
       "      <td>0.000000</td>\n",
       "      <td>0.000003</td>\n",
       "      <td>12.0</td>\n",
       "      <td>0.000000</td>\n",
       "      <td>0.000000</td>\n",
       "      <td>0.000000</td>\n",
       "    </tr>\n",
       "    <tr>\n",
       "      <th>33</th>\n",
       "      <td>NON-CRIMINAL (SUBJECT SPECIFIED)</td>\n",
       "      <td>0.000000</td>\n",
       "      <td>0.000000</td>\n",
       "      <td>33.0</td>\n",
       "      <td>0.000000</td>\n",
       "      <td>0.000000</td>\n",
       "      <td>0.000000</td>\n",
       "    </tr>\n",
       "  </tbody>\n",
       "</table>\n",
       "</div>"
      ],
      "text/plain": [
       "                         Primary Type  f_measure  false_positive_rate  index  \\\n",
       "0                               THEFT   0.765016             0.129051    0.0   \n",
       "11                       PROSTITUTION   0.227756             0.000906   11.0   \n",
       "3                           NARCOTICS   0.698525             0.069411    3.0   \n",
       "4                       OTHER OFFENSE   0.188402             0.007173    4.0   \n",
       "2                     CRIMINAL DAMAGE   0.395926             0.046607    2.0   \n",
       "1                             BATTERY   0.428108             0.126597    1.0   \n",
       "7                 MOTOR VEHICLE THEFT   0.302904             0.016281    7.0   \n",
       "6                            BURGLARY   0.354511             0.062600    6.0   \n",
       "9                  DECEPTIVE PRACTICE   0.316258             0.030814    9.0   \n",
       "10                  CRIMINAL TRESPASS   0.172970             0.010080   10.0   \n",
       "5                             ASSAULT   0.278285             0.080065    5.0   \n",
       "8                             ROBBERY   0.089081             0.008702    8.0   \n",
       "28                       NON-CRIMINAL   0.000000             0.000000   28.0   \n",
       "25                          OBSCENITY   0.000000             0.000000   25.0   \n",
       "26                   PUBLIC INDECENCY   0.000000             0.000000   26.0   \n",
       "27           OTHER NARCOTIC VIOLATION   0.000000             0.000000   27.0   \n",
       "32                          RITUALISM   0.000000             0.000000   32.0   \n",
       "29  CONCEALED CARRY LICENSE VIOLATION   0.000000             0.000000   29.0   \n",
       "30                     NON - CRIMINAL   0.000000             0.000000   30.0   \n",
       "31                  HUMAN TRAFFICKING   0.000000             0.000000   31.0   \n",
       "23                       INTIMIDATION   0.000000             0.000000   23.0   \n",
       "24                           STALKING   0.000000             0.000000   24.0   \n",
       "17                           GAMBLING   0.000000             0.000000   17.0   \n",
       "22                         KIDNAPPING   0.000000             0.000000   22.0   \n",
       "21                           HOMICIDE   0.000000             0.000000   21.0   \n",
       "20                              ARSON   0.000000             0.000000   20.0   \n",
       "19               LIQUOR LAW VIOLATION   0.000000             0.000000   19.0   \n",
       "18   INTERFERENCE WITH PUBLIC OFFICER   0.000000             0.000000   18.0   \n",
       "16                        SEX OFFENSE   0.000000             0.000000   16.0   \n",
       "15                CRIM SEXUAL ASSAULT   0.000000             0.000000   15.0   \n",
       "14         OFFENSE INVOLVING CHILDREN   0.000000             0.000000   14.0   \n",
       "13             PUBLIC PEACE VIOLATION   0.000000             0.000000   13.0   \n",
       "12                  WEAPONS VIOLATION   0.000000             0.000003   12.0   \n",
       "33   NON-CRIMINAL (SUBJECT SPECIFIED)   0.000000             0.000000   33.0   \n",
       "\n",
       "    precision_rate  recall_rate  true_positive_rate  \n",
       "0         0.653782     0.921861            0.921861  \n",
       "11        0.617828     0.139611            0.139611  \n",
       "3         0.597864     0.839943            0.839943  \n",
       "4         0.513462     0.115366            0.115366  \n",
       "2         0.483013     0.335445            0.335445  \n",
       "1         0.428220     0.427996            0.427996  \n",
       "7         0.416102     0.238125            0.238125  \n",
       "6         0.301740     0.429651            0.429651  \n",
       "9         0.295988     0.339509            0.339509  \n",
       "10        0.272213     0.126757            0.126757  \n",
       "5         0.226008     0.362025            0.362025  \n",
       "8         0.204950     0.056908            0.056908  \n",
       "28        0.000000     0.000000            0.000000  \n",
       "25        0.000000     0.000000            0.000000  \n",
       "26        0.000000     0.000000            0.000000  \n",
       "27        0.000000     0.000000            0.000000  \n",
       "32        0.000000     0.000000            0.000000  \n",
       "29        0.000000     0.000000            0.000000  \n",
       "30        0.000000     0.000000            0.000000  \n",
       "31        0.000000     0.000000            0.000000  \n",
       "23        0.000000     0.000000            0.000000  \n",
       "24        0.000000     0.000000            0.000000  \n",
       "17        0.000000     0.000000            0.000000  \n",
       "22        0.000000     0.000000            0.000000  \n",
       "21        0.000000     0.000000            0.000000  \n",
       "20        0.000000     0.000000            0.000000  \n",
       "19        0.000000     0.000000            0.000000  \n",
       "18        0.000000     0.000000            0.000000  \n",
       "16        0.000000     0.000000            0.000000  \n",
       "15        0.000000     0.000000            0.000000  \n",
       "14        0.000000     0.000000            0.000000  \n",
       "13        0.000000     0.000000            0.000000  \n",
       "12        0.000000     0.000000            0.000000  \n",
       "33        0.000000     0.000000            0.000000  "
      ]
     },
     "execution_count": 74,
     "metadata": {},
     "output_type": "execute_result"
    }
   ],
   "source": [
    "rates_pddf\n"
   ]
  },
  {
   "cell_type": "markdown",
   "metadata": {},
   "source": [
    "### Test"
   ]
  },
  {
   "cell_type": "code",
   "execution_count": 77,
   "metadata": {},
   "outputs": [],
   "source": [
    "prediction = fittedModel.transform(test)"
   ]
  },
  {
   "cell_type": "code",
   "execution_count": 78,
   "metadata": {},
   "outputs": [
    {
     "name": "stdout",
     "output_type": "stream",
     "text": [
      "+-------------------+--------------------+--------------------+----------+\n",
      "|       Primary Type|       rawPrediction|         probability|prediction|\n",
      "+-------------------+--------------------+--------------------+----------+\n",
      "|            BATTERY|[-4.5424786837682...|[1.12698759923920...|       8.0|\n",
      "|      OTHER OFFENSE|[0.86620628140428...|[5.14258441530624...|       1.0|\n",
      "| DECEPTIVE PRACTICE|[-3.2251996186921...|[5.96286215001331...|       5.0|\n",
      "|            BATTERY|[-4.7735306448039...|[9.22464508304825...|       9.0|\n",
      "|      OTHER OFFENSE|[3.42162124335793...|[0.04545171064829...|       1.0|\n",
      "|MOTOR VEHICLE THEFT|[1.37850659446378...|[0.00541140772930...|       2.0|\n",
      "|              THEFT|[10.5316583395454...|[0.83068566203388...|       0.0|\n",
      "|    CRIMINAL DAMAGE|[5.34762997087535...|[0.20544779195797...|       2.0|\n",
      "|      OTHER OFFENSE|[1.05039575619955...|[0.00561661402345...|       3.0|\n",
      "|MOTOR VEHICLE THEFT|[1.48141433258335...|[0.00575096295376...|       2.0|\n",
      "|            ASSAULT|[1.27418092932508...|[0.00404157933476...|       6.0|\n",
      "|              THEFT|[10.6908660519928...|[0.90791037810809...|       0.0|\n",
      "|              THEFT|[8.6624614799788,...|[0.66371947729926...|       0.0|\n",
      "|          NARCOTICS|[4.54272457174498...|[0.11175199556289...|       1.0|\n",
      "|            BATTERY|[4.6580346343738,...|[0.01153060513075...|       1.0|\n",
      "|              THEFT|[8.44961560265733...|[0.78093339275875...|       0.0|\n",
      "|              THEFT|[5.03753794538298...|[0.01770304321009...|       1.0|\n",
      "|    CRIMINAL DAMAGE|[6.48655062401602...|[0.32940265387010...|       0.0|\n",
      "|              THEFT|[8.30178001872921...|[0.72891347386348...|       0.0|\n",
      "|    CRIMINAL DAMAGE|[5.82088279800914...|[0.26337318794539...|       0.0|\n",
      "+-------------------+--------------------+--------------------+----------+\n",
      "only showing top 20 rows\n",
      "\n"
     ]
    }
   ],
   "source": [
    "prediction.select('Primary Type','rawPrediction', 'probability', 'prediction').show()"
   ]
  },
  {
   "cell_type": "code",
   "execution_count": 79,
   "metadata": {},
   "outputs": [
    {
     "name": "stdout",
     "output_type": "stream",
     "text": [
      "Test Area Under ROC 0.17371402535154468\n"
     ]
    }
   ],
   "source": [
    "from pyspark.ml.evaluation import BinaryClassificationEvaluator\n",
    "evaluator = BinaryClassificationEvaluator(rawPredictionCol=\"rawPrediction\",labelCol=\"primary_type_indexed\")\n",
    "print('Test Area Under ROC', evaluator.evaluate(prediction))"
   ]
  },
  {
   "cell_type": "code",
   "execution_count": null,
   "metadata": {},
   "outputs": [],
   "source": []
  }
 ],
 "metadata": {
  "kernelspec": {
   "display_name": "Python 3",
   "language": "python",
   "name": "python3"
  },
  "language_info": {
   "codemirror_mode": {
    "name": "ipython",
    "version": 3
   },
   "file_extension": ".py",
   "mimetype": "text/x-python",
   "name": "python",
   "nbconvert_exporter": "python",
   "pygments_lexer": "ipython3",
   "version": "3.7.3"
  }
 },
 "nbformat": 4,
 "nbformat_minor": 2
}
